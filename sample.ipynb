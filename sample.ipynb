{
 "cells": [
  {
   "cell_type": "markdown",
   "id": "2173a787-d97d-4d8c-874d-dac73431472b",
   "metadata": {
    "tags": []
   },
   "source": [
    "## walkthru sample notebook"
   ]
  },
  {
   "cell_type": "markdown",
   "id": "214c4c5a-bbbf-4a88-b8b8-e770be680266",
   "metadata": {},
   "source": [
    "here is how I calculate `1+1`"
   ]
  },
  {
   "cell_type": "code",
   "execution_count": 1,
   "id": "a7aad068-9c46-4c75-b108-5bdba8f3f733",
   "metadata": {},
   "outputs": [
    {
     "data": {
      "text/plain": [
       "2"
      ]
     },
     "execution_count": 1,
     "metadata": {},
     "output_type": "execute_result"
    }
   ],
   "source": [
    "1+1"
   ]
  },
  {
   "cell_type": "code",
   "execution_count": 2,
   "id": "019ab98b-e548-4fe3-9da5-aa9838cbb075",
   "metadata": {},
   "outputs": [],
   "source": [
    "from numpy import *"
   ]
  },
  {
   "cell_type": "markdown",
   "id": "4cdda726-54ca-4bab-84a8-83ac47472689",
   "metadata": {},
   "source": [
    "here's how i calculate `sin`"
   ]
  },
  {
   "cell_type": "code",
   "execution_count": 3,
   "id": "f6c0ac7b-dbc3-4952-8191-c65030ce33b0",
   "metadata": {},
   "outputs": [
    {
     "data": {
      "text/plain": [
       "array([0.84147098, 1.        ])"
      ]
     },
     "execution_count": 3,
     "metadata": {},
     "output_type": "execute_result"
    }
   ],
   "source": [
    "a=array([1.0,pi/2])\n",
    "sin(a)"
   ]
  },
  {
   "cell_type": "code",
   "execution_count": null,
   "id": "0195417f-7703-4686-9a79-bb7b1258fa30",
   "metadata": {},
   "outputs": [],
   "source": []
  }
 ],
 "metadata": {
  "kernelspec": {
   "display_name": "Python 3 (ipykernel)",
   "language": "python",
   "name": "python3"
  },
  "language_info": {
   "codemirror_mode": {
    "name": "ipython",
    "version": 3
   },
   "file_extension": ".py",
   "mimetype": "text/x-python",
   "name": "python",
   "nbconvert_exporter": "python",
   "pygments_lexer": "ipython3",
   "version": "3.9.13"
  }
 },
 "nbformat": 4,
 "nbformat_minor": 5
}
